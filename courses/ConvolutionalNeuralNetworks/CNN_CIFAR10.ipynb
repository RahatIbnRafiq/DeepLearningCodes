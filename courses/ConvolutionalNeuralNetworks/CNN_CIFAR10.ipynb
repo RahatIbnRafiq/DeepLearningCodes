{
  "nbformat": 4,
  "nbformat_minor": 0,
  "metadata": {
    "colab": {
      "name": "CNN_CIFAR10.ipynb",
      "provenance": []
    },
    "kernelspec": {
      "name": "python3",
      "display_name": "Python 3"
    },
    "language_info": {
      "name": "python"
    },
    "accelerator": "GPU"
  },
  "cells": [
    {
      "cell_type": "code",
      "metadata": {
        "id": "WGP0Qi3bh_cn"
      },
      "source": [
        "import numpy as np\n",
        "import tensorflow as tf\n",
        "import matplotlib.pyplot as plt\n",
        "from tensorflow.keras.layers import Input, Conv2D, Dense, Flatten, Dropout\n",
        "from tensorflow.keras.models import Model"
      ],
      "execution_count": 1,
      "outputs": []
    },
    {
      "cell_type": "code",
      "metadata": {
        "colab": {
          "base_uri": "https://localhost:8080/"
        },
        "id": "XbXUsZt3iFYY",
        "outputId": "ae80aacf-8435-43c0-8a75-77dc703da903"
      },
      "source": [
        "cifar10 = tf.keras.datasets.cifar10\n",
        "(x_train, y_train), (x_test, y_test) = cifar10.load_data()\n",
        "x_train, x_test = x_train/255.0, x_test/255.0\n",
        "y_train, y_test = y_train.flatten(), y_test.flatten()\n",
        "print(\"x_train.shape:\", x_train.shape)\n",
        "print(\"y_train.shape\", y_train.shape)"
      ],
      "execution_count": 2,
      "outputs": [
        {
          "output_type": "stream",
          "text": [
            "Downloading data from https://www.cs.toronto.edu/~kriz/cifar-10-python.tar.gz\n",
            "170500096/170498071 [==============================] - 2s 0us/step\n",
            "x_train.shape: (50000, 32, 32, 3)\n",
            "y_train.shape (50000,)\n"
          ],
          "name": "stdout"
        }
      ]
    },
    {
      "cell_type": "code",
      "metadata": {
        "colab": {
          "base_uri": "https://localhost:8080/"
        },
        "id": "Ek9B8EQKiioG",
        "outputId": "7d4fe6e6-6a0e-4455-dd62-9de99918fe85"
      },
      "source": [
        "K = len(set(y_train))\n",
        "print(\"number of classes: \", K)"
      ],
      "execution_count": 3,
      "outputs": [
        {
          "output_type": "stream",
          "text": [
            "number of classes:  10\n"
          ],
          "name": "stdout"
        }
      ]
    },
    {
      "cell_type": "code",
      "metadata": {
        "id": "3-fO8LnGijLf"
      },
      "source": [
        "i = Input(shape=x_train[0].shape)\n",
        "x = Conv2D(32, (3,3), strides=2, activation='relu')(i)\n",
        "x = Conv2D(64, (3,3), strides=2, activation='relu')(i)\n",
        "x = Conv2D(128, (3,3), strides=2, activation='relu')(i)\n",
        "x = Flatten()(x)\n",
        "x = Dropout(0.5)(x)\n",
        "x = Dense(1024, activation='relu')(x)\n",
        "x = Dropout(0.5)(x)\n",
        "x = Dense(512, activation='relu')(x)\n",
        "x = Dropout(0.2)(x)\n",
        "x = Dense(K, activation='softmax')(x)\n",
        "\n",
        "model = Model(i, x)"
      ],
      "execution_count": 4,
      "outputs": []
    },
    {
      "cell_type": "code",
      "metadata": {
        "colab": {
          "base_uri": "https://localhost:8080/"
        },
        "id": "2HsAVP0Eiy0r",
        "outputId": "6d501cd5-a5ec-4653-c8ee-dd662892f097"
      },
      "source": [
        "model.compile(optimizer='adam',\n",
        "              loss='sparse_categorical_crossentropy',\n",
        "              metrics=['accuracy'])\n",
        "r = model.fit(x_train, y_train, validation_data=(x_test, y_test), epochs=15)"
      ],
      "execution_count": null,
      "outputs": [
        {
          "output_type": "stream",
          "text": [
            "Epoch 1/15\n",
            "1563/1563 [==============================] - 47s 10ms/step - loss: 1.5993 - accuracy: 0.4209 - val_loss: 1.3293 - val_accuracy: 0.5302\n",
            "Epoch 2/15\n",
            "1563/1563 [==============================] - 16s 10ms/step - loss: 1.3352 - accuracy: 0.5241 - val_loss: 1.1998 - val_accuracy: 0.5763\n",
            "Epoch 3/15\n",
            "1563/1563 [==============================] - 16s 10ms/step - loss: 1.2168 - accuracy: 0.5694 - val_loss: 1.1275 - val_accuracy: 0.6032\n",
            "Epoch 4/15\n",
            "1563/1563 [==============================] - 15s 10ms/step - loss: 1.1110 - accuracy: 0.6027 - val_loss: 1.1118 - val_accuracy: 0.6037\n",
            "Epoch 5/15\n",
            "1563/1563 [==============================] - 16s 10ms/step - loss: 1.0337 - accuracy: 0.6325 - val_loss: 1.0903 - val_accuracy: 0.6203\n",
            "Epoch 6/15\n",
            "1563/1563 [==============================] - 16s 11ms/step - loss: 0.9546 - accuracy: 0.6635 - val_loss: 1.0676 - val_accuracy: 0.6221\n",
            "Epoch 7/15\n",
            "1563/1563 [==============================] - 16s 10ms/step - loss: 0.9002 - accuracy: 0.6807 - val_loss: 1.0588 - val_accuracy: 0.6305\n",
            "Epoch 8/15\n",
            "1563/1563 [==============================] - 16s 10ms/step - loss: 0.8458 - accuracy: 0.7019 - val_loss: 1.0829 - val_accuracy: 0.6307\n",
            "Epoch 9/15\n",
            "1563/1563 [==============================] - 15s 10ms/step - loss: 0.7945 - accuracy: 0.7183 - val_loss: 1.0625 - val_accuracy: 0.6264\n",
            "Epoch 10/15\n",
            "1563/1563 [==============================] - 16s 11ms/step - loss: 0.7460 - accuracy: 0.7360 - val_loss: 1.0546 - val_accuracy: 0.6343\n",
            "Epoch 11/15\n",
            "1563/1563 [==============================] - 16s 10ms/step - loss: 0.6994 - accuracy: 0.7533 - val_loss: 1.0509 - val_accuracy: 0.6388\n",
            "Epoch 12/15\n",
            "1563/1563 [==============================] - 16s 10ms/step - loss: 0.6693 - accuracy: 0.7661 - val_loss: 1.0580 - val_accuracy: 0.6362\n",
            "Epoch 13/15\n",
            "1563/1563 [==============================] - 16s 10ms/step - loss: 0.6351 - accuracy: 0.7800 - val_loss: 1.1032 - val_accuracy: 0.6307\n",
            "Epoch 14/15\n",
            " 205/1563 [==>...........................] - ETA: 13s - loss: 0.5693 - accuracy: 0.8030"
          ],
          "name": "stdout"
        }
      ]
    },
    {
      "cell_type": "code",
      "metadata": {
        "id": "01DJDTOwi1GX"
      },
      "source": [
        "import matplotlib.pyplot as plt\n",
        "plt.plot(r.history['loss'], label='loss')\n",
        "plt.plot(r.history['val_loss'], label='val_loss')\n",
        "plt.legend()"
      ],
      "execution_count": null,
      "outputs": []
    },
    {
      "cell_type": "code",
      "metadata": {
        "id": "LQ0lNSq_i23i"
      },
      "source": [
        "# Plot accuracy per iteration\n",
        "plt.plot(r.history['accuracy'], label='acc')\n",
        "plt.plot(r.history['val_accuracy'], label='val_acc')\n",
        "plt.legend()"
      ],
      "execution_count": null,
      "outputs": []
    }
  ]
}